{
 "metadata": {
  "name": ""
 },
 "nbformat": 3,
 "nbformat_minor": 0,
 "worksheets": [
  {
   "cells": [
    {
     "cell_type": "heading",
     "level": 1,
     "metadata": {},
     "source": [
      "Markov Chain </br>\n",
      "Autores: Martha Ortiz / Sebastian Olivares"
     ]
    },
    {
     "cell_type": "code",
     "collapsed": false,
     "input": [
      "%pylab inline\n",
      "import numpy as np"
     ],
     "language": "python",
     "metadata": {},
     "outputs": [
      {
       "output_type": "stream",
       "stream": "stdout",
       "text": [
        "Populating the interactive namespace from numpy and matplotlib\n"
       ]
      }
     ],
     "prompt_number": 1
    },
    {
     "cell_type": "markdown",
     "metadata": {},
     "source": [
      "Carga los datos de medici\u00f3n. </br>\n",
      "t - Vector donde se guardan los datos de tiempo a partir del tercero. </br>\n",
      "P_med - Vector donde se guardan los datos medidos de P a partir del tercero. </br>\n",
      "Se realiza una visualizaci\u00f3n de los datos medidos."
     ]
    },
    {
     "cell_type": "code",
     "collapsed": false,
     "input": [
      "datos=loadtxt('data_hw_8.dat')\n",
      "\n",
      "t = datos[3:,0]\n",
      "P_med = datos[3:,1]\n",
      "plot(t,P_med,'ko')"
     ],
     "language": "python",
     "metadata": {},
     "outputs": [
      {
       "metadata": {},
       "output_type": "pyout",
       "prompt_number": 2,
       "text": [
        "[<matplotlib.lines.Line2D at 0x104be6b10>]"
       ]
      },
      {
       "metadata": {},
       "output_type": "display_data",
       "png": "[encoded data removed]",
       "text": [
        "<matplotlib.figure.Figure at 0x104bc7850>"
       ]
      }
     ],
     "prompt_number": 2
    },
    {
     "cell_type": "markdown",
     "metadata": {},
     "source": [
      "P_sol: Funci\u00f3n que recibe como argumentos valores para los par\u00e1metros de la ecuaci\u00f3n diferencial, y devuelve un vector P con la soluci\u00f3n para P con estos par\u00e1metros. Se utiliza el m\u00e9todo de Euler para solucionar la ecuaci\u00f3n diferencial. Como condici\u00f3n inicial, se utiliza el primer punto medido: t = 5.0; P = 34.0 </br>"
     ]
    },
    {
     "cell_type": "code",
     "collapsed": false,
     "input": [
      "def P_sol(alpha, betha, Km1, Km2, So):\n",
      "    \n",
      "    # Vector P donde se guardar\u00e1 la soluci\u00f3n de la ecuaci\u00f3n\n",
      "    P = zeros(len(t))\n",
      "    \n",
      "    # Condici\u00f3n inicial\n",
      "    P[0] = 34\n",
      "    \n",
      "    # C\u00e1lculo del valor de P usando m\u00e9todo de Euler\n",
      "    for i in range(len(t) - 1):\n",
      "        # Calculo de la derivada de P a partir de la expresi\u00f3n de la ecuaci\u00f3n diferencial\n",
      "        prima = alpha*(So - P[i])/(Km1 + So - P[i]) - betha*P[i]/(Km2 + P[i])\n",
      "        # C\u00e1lculo de P en cada punto del tiempo\n",
      "        P[i+1] = P[i] + (t[i+1] - t[i])*prima\n",
      "    return P"
     ],
     "language": "python",
     "metadata": {},
     "outputs": [],
     "prompt_number": 3
    },
    {
     "cell_type": "markdown",
     "metadata": {},
     "source": [
      "chi2: Funci\u00f3n que calculo el chi cuadrado de un vector soluci\u00f3n P de la ecuaci\u00f3n diferencial respecto al P_med de mediciones realizadas. "
     ]
    },
    {
     "cell_type": "code",
     "collapsed": false,
     "input": [
      "def chi2(P):\n",
      "    suma = 0\n",
      "    for i in range(len(P)):\n",
      "        suma = suma + (P[i] - P_med[i])**2\n",
      "    return suma / 16"
     ],
     "language": "python",
     "metadata": {},
     "outputs": [],
     "prompt_number": 4
    },
    {
     "cell_type": "markdown",
     "metadata": {},
     "source": [
      "alpha - Arreglo donde se guardar\u00e1n los valores para alpha que se obtengan con el algoritmo de cadena de Markov. </br>\n",
      "betha - Arreglo donde se guardar\u00e1n los valores para betha que se obtengan con el algoritmo de cadena de Markov. </br>\n",
      "Km1 - Arreglo donde se guardar\u00e1n los valores para Km1 que se obtengan con el algoritmo de cadena de Markov. </br>\n",
      "Km2 - Arreglo donde se guardar\u00e1n los valores para Km2 que se obtengan con el algoritmo de cadena de Markov. </br>\n",
      "So - Arreglo donde se guardar\u00e1n los valores para So que se obtengan con el algoritmo de cadena de Markov. </br>\n",
      "Se realiza la inicializaci\u00f3n de las variables en n\u00fameros aleatorios dentro de distintos intervalos: [5.0,10.0] para alpha; [20.0,25.0] para betha; [-20.0, -15.0] para Km1; [70.0,75.0] para Km2; [-10.0,-5.0] para So. Estos intervalos se hallaron mediante repetidas aplicaciones del siguiente algoritmo, encontrando un intervalo probable para los par\u00e1metros de la ecuaci\u00f3n."
     ]
    },
    {
     "cell_type": "code",
     "collapsed": false,
     "input": [
      "# Arreglos vacios\n",
      "alpha=empty((0))\n",
      "betha=empty((0))\n",
      "Km1=empty((0))\n",
      "Km2=empty((0))\n",
      "So=empty((0))\n",
      "\n",
      "#inicialization\n",
      "alpha_0 = 5.0 + (10.0 - 5.0)*random.random()\n",
      "betha_0 = 20.0 + (25.0 - 20.0)*random.random()\n",
      "Km1_0 = -20.0 + (-15.0 + 20.0)*random.random()\n",
      "Km2_0 = 70.0+ (75.0 - 70.0)*random.random()\n",
      "So_0 = -10.0 + (-5.0 + 10.0)*random.random()\n",
      "\n",
      "#Se a\u00f1aden estos valores a los vectores de datos\n",
      "alpha=append(alpha,alpha_0)\n",
      "betha=append(betha,betha_0)\n",
      "Km1=append(Km1,Km1_0)\n",
      "Km2=append(Km2,Km2_0)\n",
      "So=append(So,So_0)"
     ],
     "language": "python",
     "metadata": {},
     "outputs": [],
     "prompt_number": 5
    },
    {
     "cell_type": "markdown",
     "metadata": {},
     "source": [
      "Algoritmo de Metropolis-Hastings. Se genera un n\u00famero aleatorio para cada par\u00e1metro alrededor del valor anterior, usando una distribuci\u00f3n Gaussiana con desviaci\u00f3n est\u00e1ndar 0.1. </br>\n",
      "P_anterior - Soluci\u00f3n de la ecuaci\u00f3n diferencial usando par\u00e1metros anteriores </br>\n",
      "P_i - Soluci\u00f3n de la ecuaci\u00f3n diferencial usando nuevos par\u00e1metros </br>\n",
      "L - Relaci\u00f3n de verosimilitud de ambas soluciones, calculando la verosimilitud de una soluci\u00f3n como exp(-chi2) donde el chi2 es el valor de chi cuadrado calculado usando la funci\u00f3n definida anteriormente. </br>\n",
      "Si la relaci\u00f3n L es mayor que 1, son m\u00e1s probables los nuevos valores de los par\u00e1metros que los anteriores, y se agregan al vector de par\u00e1metros. </br>\n",
      "En caso contrario, se genera un nuevo valor b de una distribuci\u00f3n unidorme entre 0 y 1. Si b <= L, se aceptan los nuevos par\u00e1metros. Si no, se dejan los par\u00e1metros anteriores. </br>\n",
      "Se realizan 30000 iteraciones del algoritmo."
     ]
    },
    {
     "cell_type": "code",
     "collapsed": false,
     "input": [
      "#iterations\n",
      "n_iter= 30000\n",
      "\n",
      "for i in range(n_iter):\n",
      "    # Nuevos valores de los par\u00e1metros usando distribuci\u00f3n Gaussiana\n",
      "    alpha_i=np.random.normal(alpha[i],0.1)\n",
      "    betha_i=np.random.normal(betha[i],0.1)\n",
      "    Km1_i=np.random.normal(Km1[i],0.1)\n",
      "    Km2_i=np.random.normal(Km2[i],0.1)\n",
      "    So_i=np.random.normal(So[i],0.1)\n",
      "    \n",
      "    # Se calculan las soluciones para la ecuaci\u00f3n diferencial usando los par\u00e1metros anteriores y nuevos\n",
      "    P_anterior = P_sol(alpha[i], betha[i], Km1[i], Km2[i], So[i])\n",
      "    P_i = P_sol(alpha_i, betha_i, Km1_i, Km2_i, So_i)\n",
      "    \n",
      "    #likelihood relation\n",
      "    L = exp(-chi2(P_i)) / exp(-chi2(P_anterior))\n",
      "    \n",
      "    #Comparing\n",
      "    if (L >= 1.0):\n",
      "        # Se aceptan los nuevos par\u00e1metros\n",
      "        alpha=append(alpha,alpha_i)\n",
      "        betha=append(betha,betha_i)\n",
      "        Km1=append(Km1,Km1_i)\n",
      "        Km2=append(Km2,Km2_i)\n",
      "        So=append(So,So_i)\n",
      "        \n",
      "    else:\n",
      "        # Valor b aleatorio usando distribuci\u00f3n uniforme entre 0 y 1\n",
      "        b = random.random()\n",
      "    \n",
      "        #Comparing\n",
      "        if (b <= L):\n",
      "            # Se aceptan los nuevos par\u00e1metros\n",
      "            alpha=append(alpha,alpha_i)\n",
      "            betha=append(betha,betha_i)\n",
      "            Km1=append(Km1,Km1_i)\n",
      "            Km2=append(Km2,Km2_i)\n",
      "            So=append(So,So_i)\n",
      "            \n",
      "        else:\n",
      "            # No se aceptan los nuevos par\u00e1metros y se dejan los anteriores\n",
      "            alpha=append(alpha,alpha[i])\n",
      "            betha=append(betha,betha[i])\n",
      "            Km1=append(Km1,Km1[i])\n",
      "            Km2=append(Km2,Km2[i])\n",
      "            So=append(So,So[i])"
     ],
     "language": "python",
     "metadata": {},
     "outputs": [],
     "prompt_number": 6
    },
    {
     "cell_type": "markdown",
     "metadata": {},
     "source": [
      "Los mejores par\u00e1metros encontrados son el promedio de los vectores alpha, betha, Km1, Km2, y So. </br>\n",
      "Se grafica la soluci\u00f3n de la ecuaci\u00f3n diferencial usando estos par\u00e1metros, as\u00ed como los datos medidos inicialmente."
     ]
    },
    {
     "cell_type": "code",
     "collapsed": false,
     "input": [
      "plot(t,P_sol(average(alpha), average(betha), average(Km1), average(Km2), average(So)))\n",
      "plot(t,P_med,'ko')"
     ],
     "language": "python",
     "metadata": {},
     "outputs": [
      {
       "metadata": {},
       "output_type": "pyout",
       "prompt_number": 7,
       "text": [
        "[<matplotlib.lines.Line2D at 0x104bd1b90>]"
       ]
      },
      {
       "metadata": {},
       "output_type": "display_data",
       "png": "[encoded data removed]",
       "text": [
        "<matplotlib.figure.Figure at 0x104bd1c50>"
       ]
      }
     ],
     "prompt_number": 7
    },
    {
     "cell_type": "markdown",
     "metadata": {},
     "source": [
      "Se imprimen los par\u00e1metros encontrados usando la cadena de Markov, la desviaci\u00f3n est\u00e1ndar de los par\u00e1metros, el intervalo de incertidumbre de los par\u00e1metros y el chi cuadrado de la soluci\u00f3n encontrada con esos par\u00e1metros."
     ]
    },
    {
     "cell_type": "code",
     "collapsed": false,
     "input": [
      "print \"Valor promedio encontrado del par\u00e1metro alpha =\", average(alpha)\n",
      "print \"Desviaci\u00f3n est\u00e1ndar del par\u00e1metro alpha = \", np.std(alpha)\n",
      "print \"Intervalo de incertidumbre de alpha: [\", average(alpha) - np.std(alpha), \",\", average(alpha) + np.std(alpha), \"]\"\n",
      "print \" \"\n",
      "print \"Valor promedio encontrado del par\u00e1metro betha =\", average(betha)\n",
      "print \"Desviaci\u00f3n est\u00e1ndar del par\u00e1metro betha = \", np.std(betha)\n",
      "print \"Intervalo de incertidumbre de betha: [\", average(betha) - np.std(betha), \",\", average(betha) + np.std(betha), \"]\"\n",
      "print \" \"\n",
      "print \"Valor promedio encontrado del par\u00e1metro Km1 =\", average(Km1)\n",
      "print \"Desviaci\u00f3n est\u00e1ndar del par\u00e1metro Km1 = \", np.std(Km1)\n",
      "print \"Intervalo de incertidumbre de Km1: [\", average(Km1) - np.std(Km1), \",\", average(Km1) + np.std(Km1), \"]\"\n",
      "print \" \"\n",
      "print \"Valor promedio encontrado del par\u00e1metro Km2 =\", average(Km2)\n",
      "print \"Desviaci\u00f3n est\u00e1ndar del par\u00e1metro Km2 = \", np.std(Km2)\n",
      "print \"Intervalo de incertidumbre de Km2: [\", average(Km2) - np.std(Km2), \",\", average(Km2) + np.std(Km2), \"]\"\n",
      "print \" \"\n",
      "print \"Valor promedio encontrado del par\u00e1metro So =\", average(So)\n",
      "print \"Desviaci\u00f3n est\u00e1ndar del par\u00e1metro So = \", np.std(So)\n",
      "print \"Intervalo de incertidumbre de So: [\", average(So) - np.std(So), \",\", average(So) + np.std(So), \"]\"\n",
      "print \" \"\n",
      "print \"Chi cuadrado para la soluci\u00f3n encontrada con esos par\u00e1metros =\", chi2(P_sol(average(alpha), average(betha), average(Km1), average(Km2), average(So)))"
     ],
     "language": "python",
     "metadata": {},
     "outputs": [
      {
       "output_type": "stream",
       "stream": "stdout",
       "text": [
        "Valor promedio encontrado del par\u00e1metro alpha = 9.70548822088\n",
        "Desviaci\u00f3n est\u00e1ndar del par\u00e1metro alpha =  2.92486688172\n",
        "Intervalo de incertidumbre de alpha: [ 6.78062133916 , 12.6303551026 ]\n",
        " \n",
        "Valor promedio encontrado del par\u00e1metro betha = 28.4055531089\n",
        "Desviaci\u00f3n est\u00e1ndar del par\u00e1metro betha =  6.90994337422\n",
        "Intervalo de incertidumbre de betha: [ 21.4956097347 , 35.3154964831 ]\n",
        " \n",
        "Valor promedio encontrado del par\u00e1metro Km1 = -31.7158324312\n",
        "Desviaci\u00f3n est\u00e1ndar del par\u00e1metro Km1 =  11.8572567047\n",
        "Intervalo de incertidumbre de Km1: [ -43.5730891359 , -19.8585757265 ]\n",
        " \n",
        "Valor promedio encontrado del par\u00e1metro Km2 = 88.3998228627\n",
        "Desviaci\u00f3n est\u00e1ndar del par\u00e1metro Km2 =  11.5133668587\n",
        "Intervalo de incertidumbre de Km2: [ 76.886456004 , 99.9131897214 ]\n",
        " \n",
        "Valor promedio encontrado del par\u00e1metro So = -11.9601624961\n",
        "Desviaci\u00f3n est\u00e1ndar del par\u00e1metro So =  5.35198518444\n",
        "Intervalo de incertidumbre de So: [ -17.3121476806 , -6.60817731168 ]\n",
        " \n",
        "Chi cuadrado para la soluci\u00f3n encontrada con esos par\u00e1metros = 0.302997203452\n"
       ]
      }
     ],
     "prompt_number": 9
    },
    {
     "cell_type": "code",
     "collapsed": false,
     "input": [],
     "language": "python",
     "metadata": {},
     "outputs": []
    }
   ],
   "metadata": {}
  }
 ]
}